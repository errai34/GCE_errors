{
 "cells": [
  {
   "cell_type": "code",
   "execution_count": 30,
   "metadata": {
    "collapsed": false
   },
   "outputs": [
    {
     "data": {
      "image/png": "[encoded data removed]",
      "text/plain": [
       "<matplotlib.figure.Figure at 0x108118d50>"
      ]
     },
     "metadata": {},
     "output_type": "display_data"
    },
    {
     "name": "stdout",
     "output_type": "stream",
     "text": [
      "1.00036259945\n"
     ]
    }
   ],
   "source": [
    "%matplotlib inline\n",
    "\n",
    "import numpy as np\n",
    "import scipy.optimize as scop\n",
    "import matplotlib.pyplot as plt\n",
    "from scipy import integrate\n",
    "from scipy.integrate import quad, dblquad\n",
    "from scipy import stats\n",
    "\n",
    "Nsamples = 200000\n",
    "resolution = 100\n",
    "\n",
    "def density(x,y,scale_radius,  gamma): #NFW density profile\n",
    "\tsolar_radius = 8.25\n",
    "\tR = np.sqrt(1 -2.*y*x + x*x)#R / solar radius\n",
    "\treturn pow(R,-gamma)*pow((1 + R*solar_radius/scale_radius)/(1+solar_radius/scale_radius),gamma-3)\n",
    "\n",
    "def J_factor(scale_radius,local_density,gamma):\n",
    "\t#integrating density^2 from x=0 to inf; x is line of sight distance/solarradius\n",
    "\t#theta = np.zeros((7,7))\n",
    "\ttemp = np.zeros((7,7))\n",
    "\tfor i in range(7):\n",
    "\t\tfor j in range(7):\n",
    "\t\t\ty = np.cos(.5*(1+j)*np.pi/180.)*np.cos(.5*(1+i)*np.pi/180.)\n",
    "\t\t\tintegrand = lambda x: density(x,y,scale_radius,gamma)**2\n",
    "\t\t\tans, err = integrate.quad(integrand, 0,np.inf)\n",
    "\t\t\ttemp[i,j] = ans\n",
    "\tJ = temp.mean()\t\n",
    "\tkpctocm = 3.08568e21\n",
    "\tdeltaomega = (7.*np.pi/180.)**2\n",
    "\treturn  deltaomega*J*8.25*kpctocm*local_density*local_density\n",
    "\t\n",
    "\n",
    "\n",
    "    \n",
    "def density_spher_sym(x,theta,scale_radius,gamma):\n",
    "    #x is the los distance relative to solar radius; theta is the polar angle from the los direction in degrees\n",
    "    solar_radius = 8.25\n",
    "    R = np.sqrt(1 - 2*np.cos(theta)*x + x*x)\n",
    "    return R**-gamma * ((1 + R*solar_radius/scale_radius)/(1+solar_radius/scale_radius))**(gamma-3)\n",
    "\n",
    "def J_per_sr(theta,scale_radius,gamma):\n",
    "    integrand = lambda x: density_spher_sym(x, theta, scale_radius, gamma)**2\n",
    "    ans, err = integrate.quad(integrand,0,np.inf)\n",
    "    return ans\n",
    "\n",
    "# def J_per_sr_2(scale_radius,gamma):\n",
    "#     integrand = lambda x,theta: np.sin(theta)*density_spher_sym(x, theta, scale_radius, gamma)**2\n",
    "#     ans, err = integrate.dblquad(integrand,0,np.inf,0,3.5 )\n",
    "#     return ans\n",
    "\n",
    "# def J_per_sr_2(scale_radius,gamma):\n",
    "#     return dblquad(lambda x,theta: np.sin(theta)*density_spher_sym(x,theta,scale_radius,gamma)**2,0,3.5*np.pi/180., lambda x: 0, lambda x: np.inf)\n",
    "\n",
    "\n",
    "def J_per_theta(theta,scale_radius,gamma):\n",
    "    integrand = lambda x: density_spher_sym(x, theta, scale_radius, gamma)**2\n",
    "    ans, err = integrate.quad(integrand,0,np.inf)\n",
    "    return ans*np.sin(theta)\n",
    "\n",
    "# N = 1000    \n",
    "# theta_array = np.linspace(0.0,3.5*np.pi/180.,num=N)\n",
    "\n",
    "# Jpt = np.zeros(N)\n",
    "\n",
    "# for i in range(1,N):\n",
    "#     Jpt[i] = J_per_theta(theta_array[i] ,20.,1.1)\n",
    "\n",
    "# J_test = np.trapz(Jpt,x=theta_array)*2*np.pi    \n",
    "\n",
    "# print J_test*8.25* 3.08568e21 * 0.28**2\n",
    "\n",
    "# plt.plot(theta_array, Jpt)\n",
    "# plt.show()\n",
    "    \n",
    "    \n",
    "\n",
    "    \n",
    "    \n",
    "# N = 1000    \n",
    "# theta_array = np.linspace(0.0,3.7*np.pi/180.,num=N)\n",
    "\n",
    "# Jpt = np.zeros(N)\n",
    "\n",
    "# for i in range(1,N):\n",
    "#     Jpt[i] = J_per_theta(theta_array[i] ,20.,1.1)\n",
    "\n",
    "# J_test = np.trapz(Jpt,theta_array)*2*np.pi    \n",
    "\n",
    "# print J_test*8.25* 3.08568e21 * 0.28**2    \n",
    "    \n",
    "    \n",
    "# integrand = lambda theta: J_per_theta(theta,20.,1.1) \n",
    "# ans, err = integrate.quad(integrand,.00000001,3.5*np.pi/180.)\n",
    "\n",
    "# print ans*2*np.pi*8.25* 3.08568e21\n",
    "\n",
    "# #print J_per_sr_2(20,1.1)\n",
    "\n",
    "# # print J_per_sr(0,20,1.1)\n",
    "\n",
    "\n",
    "\n",
    "\n",
    "\n",
    "# print J_factor(20,0.28,1.1)\n",
    "\n",
    "\n",
    "# print density_spher_sym(8,2,20,1.1)\n",
    "\n",
    "# print density_spher_sym(0.5,0,20,1.1)\n",
    "\n",
    "\n",
    "rho = np.random.normal(0.28,0.08,100000)\n",
    "\n",
    "J = 2e23*rho**2\n",
    "\n",
    "J_kde = stats.gaussian_kde(J)\n",
    "\n",
    "J_plot = np.logspace(18,23,100)\n",
    "\n",
    "plt.plot(J_plot,J_kde(J_plot))\n",
    "plt.xscale('log')\n",
    "plt.show()\n",
    "\n",
    "\n",
    "norm = np.trapz(J_kde(J_plot),J_plot)\n",
    "print norm"
   ]
  },
  {
   "cell_type": "code",
   "execution_count": null,
   "metadata": {
    "collapsed": true
   },
   "outputs": [],
   "source": []
  },
  {
   "cell_type": "code",
   "execution_count": null,
   "metadata": {
    "collapsed": true
   },
   "outputs": [],
   "source": []
  }
 ],
 "metadata": {
  "kernelspec": {
   "display_name": "Python 2",
   "language": "python",
   "name": "python2"
  },
  "language_info": {
   "codemirror_mode": {
    "name": "ipython",
    "version": 2
   },
   "file_extension": ".py",
   "mimetype": "text/x-python",
   "name": "python",
   "nbconvert_exporter": "python",
   "pygments_lexer": "ipython2",
   "version": "2.7.9"
  }
 },
 "nbformat": 4,
 "nbformat_minor": 0
}
